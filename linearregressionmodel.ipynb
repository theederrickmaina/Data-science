{
  "nbformat": 4,
  "nbformat_minor": 0,
  "metadata": {
    "colab": {
      "provenance": [],
      "mount_file_id": "1ZX_WKJwsvHvO98o3rdse12W9R5wHpQdz",
      "authorship_tag": "ABX9TyPRbhMXuLFmgLnWZRJBkijb",
      "include_colab_link": true
    },
    "kernelspec": {
      "name": "python3",
      "display_name": "Python 3"
    },
    "language_info": {
      "name": "python"
    }
  },
  "cells": [
    {
      "cell_type": "markdown",
      "metadata": {
        "id": "view-in-github",
        "colab_type": "text"
      },
      "source": [
        "<a href=\"https://colab.research.google.com/github/theederrickmaina/Data-science/blob/main/linearregressionmodel.ipynb\" target=\"_parent\"><img src=\"https://colab.research.google.com/assets/colab-badge.svg\" alt=\"Open In Colab\"/></a>"
      ]
    },
    {
      "cell_type": "code",
      "execution_count": null,
      "metadata": {
        "colab": {
          "base_uri": "https://localhost:8080/"
        },
        "id": "DjX4MhZKls1F",
        "outputId": "a419e587-7a43-4669-810e-b20a5a29ad9d"
      },
      "outputs": [
        {
          "output_type": "stream",
          "name": "stdout",
          "text": [
            "Drive already mounted at /content/drive; to attempt to forcibly remount, call drive.mount(\"/content/drive\", force_remount=True).\n",
            "Mean Squared Error: 0.1756511561589395\n",
            "R-squared: 0.001596088712433552\n",
            "Predicted Severity for Hypothetical Input: [1.90811428]\n"
          ]
        }
      ],
      "source": [
        "import pandas as pd\n",
        "from sklearn.model_selection import train_test_split\n",
        "from sklearn.linear_model import LinearRegression\n",
        "from sklearn.metrics import mean_squared_error, r2_score\n",
        "from sklearn.preprocessing import LabelEncoder\n",
        "from google.colab import drive\n",
        "drive.mount('/content/drive')\n",
        "import matplotlib.pyplot as plt\n",
        "import numpy as np\n",
        "\n",
        "data = pd.read_csv('/content/drive/MyDrive/Colab Notebooks/RTA Dataset.csv')\n",
        "data.head()\n",
        "\n",
        "X = data[['Weather_conditions', 'Road_allignment', 'Defect_of_vehicle', 'Pedestrian_movement']] #indepent variables\n",
        "y = data['Accident_severity'] #dependent variable\n",
        "\n",
        "X = X.ffill()\n",
        "\n",
        "X = pd.get_dummies(X, drop_first=True)\n",
        "\n",
        "label_encoder = LabelEncoder()\n",
        "y = label_encoder.fit_transform(y)\n",
        "\n",
        "X_train, X_test, y_train, y_test = train_test_split(X, y, test_size=0.2, random_state=42)\n",
        "\n",
        "model = LinearRegression() #Creating a Linear Regression model\n",
        "\n",
        "model.fit(X_train, y_train) #Training the model\n",
        "\n",
        "y_pred = model.predict(X_test) #Making predictions\n",
        "\n",
        "mse = mean_squared_error(y_test, y_pred)\n",
        "r2 = r2_score(y_test, y_pred)\n",
        "\n",
        "print(f'Mean Squared Error: {mse}')\n",
        "print(f'R-squared: {r2}')\n",
        "\n",
        "import pickle\n",
        "\n",
        "#Saving the model to a file\n",
        "with open('linear_regression_model.pkl', 'wb') as file:\n",
        "    pickle.dump(model, file)\n",
        "\n",
        "#Example of using the model for a hypothetical prediction\n",
        "hypothetical_data = pd.DataFrame([['Raining', 'Escarpments', 'No defect', 'Not a Pedestrian']],\n",
        "                                 columns=['Weather_conditions', 'Road_allignment', 'Defect_of_vehicle', 'Pedestrian_movement'])\n",
        "\n",
        "hypothetical_data = pd.get_dummies(hypothetical_data, drop_first=True)\n",
        "\n",
        "hypothetical_data = hypothetical_data.reindex(columns=X_train.columns, fill_value=0)\n",
        "\n",
        "#Making the prediction\n",
        "predicted_severity = model.predict(hypothetical_data)\n",
        "print(f\"Predicted Severity for Hypothetical Input: {predicted_severity}\")\n"
      ]
    },
    {
      "cell_type": "code",
      "source": [],
      "metadata": {
        "id": "hjVYrMBqs8KU"
      },
      "execution_count": null,
      "outputs": []
    }
  ]
}